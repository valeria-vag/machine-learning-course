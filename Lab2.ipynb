{
 "cells": [
  {
   "cell_type": "code",
   "execution_count": 1,
   "id": "fcea9263-4ac3-44e5-b031-de0143081067",
   "metadata": {},
   "outputs": [],
   "source": [
    "import numpy as np\n",
    "import matplotlib.pyplot as plt\n",
    "%matplotlib inline \n",
    "import pandas as pd\n",
    "import seaborn as sns\n",
    "import sklearn"
   ]
  },
  {
   "cell_type": "markdown",
   "id": "6effd05d-2de7-461e-9c32-d89adbd14827",
   "metadata": {},
   "source": [
    "## 1. Загрузка и подготовка данных"
   ]
  },
  {
   "cell_type": "code",
   "execution_count": 2,
   "id": "15f2dd92-fbef-42c6-8554-32a36beae265",
   "metadata": {},
   "outputs": [
    {
     "data": {
      "text/plain": [
       "(119390, 36)"
      ]
     },
     "execution_count": 2,
     "metadata": {},
     "output_type": "execute_result"
    }
   ],
   "source": [
    "url = \"https://raw.githubusercontent.com/valeria-vag/machine-learning-course/main/hotel_booking.csv\"\n",
    "data_raw = pd.read_csv(url)\n",
    "data_raw.shape"
   ]
  },
  {
   "cell_type": "code",
   "execution_count": 3,
   "id": "8bdfb7f2-f078-41a5-bc3f-687a87432a65",
   "metadata": {},
   "outputs": [
    {
     "data": {
      "text/plain": [
       "0         PRT\n",
       "1         PRT\n",
       "2         GBR\n",
       "3         GBR\n",
       "4         GBR\n",
       "         ... \n",
       "119385    BEL\n",
       "119386    FRA\n",
       "119387    DEU\n",
       "119388    GBR\n",
       "119389    DEU\n",
       "Name: country, Length: 119390, dtype: object"
      ]
     },
     "execution_count": 3,
     "metadata": {},
     "output_type": "execute_result"
    }
   ],
   "source": [
    "data_raw[\"country\"]"
   ]
  },
  {
   "cell_type": "markdown",
   "id": "ffe4fe2b-6004-4d4f-8f6a-952816aa07ad",
   "metadata": {},
   "source": [
    "Удалим несколько признаков, никак не влияющих на финальный результат.\n",
    "Так же на большинстве сайтов бронирования обычно указаны только категории гостей и детей (до 18 лет), поэтому мы можем объединить значения детей и младенцев в колонке дети"
   ]
  },
  {
   "cell_type": "code",
   "execution_count": 4,
   "id": "b3e317ca-c382-427b-98dd-99b42c589b43",
   "metadata": {},
   "outputs": [],
   "source": [
    "del data_raw['name']\n",
    "del data_raw['email']\n",
    "del data_raw['phone-number']\n",
    "del data_raw['credit_card']"
   ]
  },
  {
   "cell_type": "code",
   "execution_count": 5,
   "id": "9073d5ae-cccd-43dd-a6e7-76b8cadc0bb2",
   "metadata": {},
   "outputs": [],
   "source": [
    "data_raw['kids'] = data_raw['children'] + data_raw['babies']"
   ]
  },
  {
   "cell_type": "code",
   "execution_count": 6,
   "id": "b74eed32-5f10-4ce5-bdcf-0bd3c79d017b",
   "metadata": {},
   "outputs": [],
   "source": [
    "del data_raw['children']\n",
    "del data_raw['babies']"
   ]
  },
  {
   "cell_type": "markdown",
   "id": "5bd2dd98-65d8-4fd6-9196-fee7ebb721da",
   "metadata": {
    "tags": []
   },
   "source": [
    "Как было замечено в первой лабораторной, мы имеем два признака \"country\" и \"kids\", которые имеют незначительный процент пропущенных значений (0.409%, 0.003% соответственно). Поэтому строки с пропущенными значениями можно удалить.  "
   ]
  },
  {
   "cell_type": "code",
   "execution_count": 7,
   "id": "3a2a5550-3639-4992-840a-1696ae3782a7",
   "metadata": {
    "tags": []
   },
   "outputs": [
    {
     "name": "stdout",
     "output_type": "stream",
     "text": [
      "(118898, 31)\n"
     ]
    },
    {
     "data": {
      "text/plain": [
       "hotel                                  0\n",
       "is_canceled                            0\n",
       "lead_time                              0\n",
       "arrival_date_year                      0\n",
       "arrival_date_month                     0\n",
       "arrival_date_week_number               0\n",
       "arrival_date_day_of_month              0\n",
       "stays_in_weekend_nights                0\n",
       "stays_in_week_nights                   0\n",
       "adults                                 0\n",
       "meal                                   0\n",
       "country                                0\n",
       "market_segment                         0\n",
       "distribution_channel                   0\n",
       "is_repeated_guest                      0\n",
       "previous_cancellations                 0\n",
       "previous_bookings_not_canceled         0\n",
       "reserved_room_type                     0\n",
       "assigned_room_type                     0\n",
       "booking_changes                        0\n",
       "deposit_type                           0\n",
       "agent                              16004\n",
       "company                           112275\n",
       "days_in_waiting_list                   0\n",
       "customer_type                          0\n",
       "adr                                    0\n",
       "required_car_parking_spaces            0\n",
       "total_of_special_requests              0\n",
       "reservation_status                     0\n",
       "reservation_status_date                0\n",
       "kids                                   0\n",
       "dtype: int64"
      ]
     },
     "execution_count": 7,
     "metadata": {},
     "output_type": "execute_result"
    }
   ],
   "source": [
    "data_raw.dropna(axis=0, how='all', subset=['country'], inplace=True)\n",
    "data_raw.dropna(axis=0, how='all', subset=['kids'], inplace=True)\n",
    "print(data_raw.shape)\n",
    "data_raw.isna().sum()"
   ]
  },
  {
   "cell_type": "markdown",
   "id": "2a97651f-d2a5-457d-88d4-00b78a2cec83",
   "metadata": {},
   "source": [
    "Для двух других признаков (company - 94%, agent - 14%) заполним пропущенные значения медианными:"
   ]
  },
  {
   "cell_type": "code",
   "execution_count": 8,
   "id": "0f505c1c-2be8-4a6a-935c-cfda6ba61f8b",
   "metadata": {},
   "outputs": [
    {
     "data": {
      "text/plain": [
       "is_canceled                          0.0\n",
       "lead_time                           69.0\n",
       "arrival_date_year                 2016.0\n",
       "arrival_date_week_number            28.0\n",
       "arrival_date_day_of_month           16.0\n",
       "stays_in_weekend_nights              1.0\n",
       "stays_in_week_nights                 2.0\n",
       "adults                               2.0\n",
       "is_repeated_guest                    0.0\n",
       "previous_cancellations               0.0\n",
       "previous_bookings_not_canceled       0.0\n",
       "booking_changes                      0.0\n",
       "agent                               14.0\n",
       "company                            179.0\n",
       "days_in_waiting_list                 0.0\n",
       "adr                                 95.0\n",
       "required_car_parking_spaces          0.0\n",
       "total_of_special_requests            0.0\n",
       "kids                                 0.0\n",
       "dtype: float64"
      ]
     },
     "execution_count": 8,
     "metadata": {},
     "output_type": "execute_result"
    }
   ],
   "source": [
    "data_raw.median(axis = 0)"
   ]
  },
  {
   "cell_type": "code",
   "execution_count": 9,
   "id": "4a9bfcb0-e72b-4949-84ea-63b36290e8c9",
   "metadata": {},
   "outputs": [
    {
     "data": {
      "text/plain": [
       "hotel                             0\n",
       "is_canceled                       0\n",
       "lead_time                         0\n",
       "arrival_date_year                 0\n",
       "arrival_date_month                0\n",
       "arrival_date_week_number          0\n",
       "arrival_date_day_of_month         0\n",
       "stays_in_weekend_nights           0\n",
       "stays_in_week_nights              0\n",
       "adults                            0\n",
       "meal                              0\n",
       "country                           0\n",
       "market_segment                    0\n",
       "distribution_channel              0\n",
       "is_repeated_guest                 0\n",
       "previous_cancellations            0\n",
       "previous_bookings_not_canceled    0\n",
       "reserved_room_type                0\n",
       "assigned_room_type                0\n",
       "booking_changes                   0\n",
       "deposit_type                      0\n",
       "agent                             0\n",
       "company                           0\n",
       "days_in_waiting_list              0\n",
       "customer_type                     0\n",
       "adr                               0\n",
       "required_car_parking_spaces       0\n",
       "total_of_special_requests         0\n",
       "reservation_status                0\n",
       "reservation_status_date           0\n",
       "kids                              0\n",
       "dtype: int64"
      ]
     },
     "execution_count": 9,
     "metadata": {},
     "output_type": "execute_result"
    }
   ],
   "source": [
    "data_raw = data_raw.fillna(data_raw.median(axis = 0), axis = 0)\n",
    "data_raw.isna().sum()"
   ]
  },
  {
   "cell_type": "markdown",
   "id": "0236b88b-03f2-4a9e-8ccc-0ddd32ae1228",
   "metadata": {},
   "source": [
    "Избавимся от категориальных признаков с помощью метода бинаризации"
   ]
  },
  {
   "cell_type": "code",
   "execution_count": 10,
   "id": "9aa690d1-0f22-4663-ab39-c0b81b45f7b7",
   "metadata": {},
   "outputs": [
    {
     "name": "stdout",
     "output_type": "stream",
     "text": [
      "<class 'pandas.core.frame.DataFrame'>\n",
      "Int64Index: 118898 entries, 0 to 119389\n",
      "Data columns (total 31 columns):\n",
      " #   Column                          Non-Null Count   Dtype   \n",
      "---  ------                          --------------   -----   \n",
      " 0   hotel                           118898 non-null  category\n",
      " 1   is_canceled                     118898 non-null  int64   \n",
      " 2   lead_time                       118898 non-null  int64   \n",
      " 3   arrival_date_year               118898 non-null  int64   \n",
      " 4   arrival_date_month              118898 non-null  category\n",
      " 5   arrival_date_week_number        118898 non-null  int64   \n",
      " 6   arrival_date_day_of_month       118898 non-null  int64   \n",
      " 7   stays_in_weekend_nights         118898 non-null  int64   \n",
      " 8   stays_in_week_nights            118898 non-null  int64   \n",
      " 9   adults                          118898 non-null  int64   \n",
      " 10  meal                            118898 non-null  category\n",
      " 11  country                         118898 non-null  category\n",
      " 12  market_segment                  118898 non-null  category\n",
      " 13  distribution_channel            118898 non-null  category\n",
      " 14  is_repeated_guest               118898 non-null  int64   \n",
      " 15  previous_cancellations          118898 non-null  int64   \n",
      " 16  previous_bookings_not_canceled  118898 non-null  int64   \n",
      " 17  reserved_room_type              118898 non-null  category\n",
      " 18  assigned_room_type              118898 non-null  category\n",
      " 19  booking_changes                 118898 non-null  int64   \n",
      " 20  deposit_type                    118898 non-null  category\n",
      " 21  agent                           118898 non-null  float64 \n",
      " 22  company                         118898 non-null  float64 \n",
      " 23  days_in_waiting_list            118898 non-null  int64   \n",
      " 24  customer_type                   118898 non-null  category\n",
      " 25  adr                             118898 non-null  float64 \n",
      " 26  required_car_parking_spaces     118898 non-null  int64   \n",
      " 27  total_of_special_requests       118898 non-null  int64   \n",
      " 28  reservation_status              118898 non-null  category\n",
      " 29  reservation_status_date         118898 non-null  object  \n",
      " 30  kids                            118898 non-null  float64 \n",
      "dtypes: category(11), float64(4), int64(15), object(1)\n",
      "memory usage: 20.4+ MB\n"
     ]
    }
   ],
   "source": [
    "data_raw['hotel'] = data_raw['hotel'].astype('category')\n",
    "data_raw['arrival_date_month'] = data_raw['arrival_date_month'].astype('category')\n",
    "data_raw['meal'] = data_raw['meal'].astype('category')\n",
    "data_raw['country'] = data_raw['country'].astype('category')\n",
    "data_raw['market_segment'] = data_raw['market_segment'].astype('category')\n",
    "data_raw['distribution_channel'] = data_raw['distribution_channel'].astype('category')\n",
    "data_raw['reserved_room_type'] = data_raw['reserved_room_type'].astype('category')\n",
    "data_raw['assigned_room_type'] = data_raw['assigned_room_type'].astype('category')\n",
    "data_raw['deposit_type'] = data_raw['deposit_type'].astype('category')\n",
    "data_raw['customer_type'] = data_raw['customer_type'].astype('category')\n",
    "data_raw['reservation_status'] = data_raw['reservation_status'].astype('category')\n",
    "data_raw.info()"
   ]
  },
  {
   "cell_type": "code",
   "execution_count": 11,
   "id": "344d4c74-54f1-4fb6-aa47-5640f92f33a1",
   "metadata": {
    "tags": []
   },
   "outputs": [
    {
     "name": "stdout",
     "output_type": "stream",
     "text": [
      "(118898, 260)\n"
     ]
    },
    {
     "data": {
      "text/html": [
       "<div>\n",
       "<style scoped>\n",
       "    .dataframe tbody tr th:only-of-type {\n",
       "        vertical-align: middle;\n",
       "    }\n",
       "\n",
       "    .dataframe tbody tr th {\n",
       "        vertical-align: top;\n",
       "    }\n",
       "\n",
       "    .dataframe thead th {\n",
       "        text-align: right;\n",
       "    }\n",
       "</style>\n",
       "<table border=\"1\" class=\"dataframe\">\n",
       "  <thead>\n",
       "    <tr style=\"text-align: right;\">\n",
       "      <th></th>\n",
       "      <th>is_canceled</th>\n",
       "      <th>lead_time</th>\n",
       "      <th>arrival_date_year</th>\n",
       "      <th>arrival_date_week_number</th>\n",
       "      <th>arrival_date_day_of_month</th>\n",
       "      <th>stays_in_weekend_nights</th>\n",
       "      <th>stays_in_week_nights</th>\n",
       "      <th>adults</th>\n",
       "      <th>is_repeated_guest</th>\n",
       "      <th>previous_cancellations</th>\n",
       "      <th>...</th>\n",
       "      <th>deposit_type_No Deposit</th>\n",
       "      <th>deposit_type_Non Refund</th>\n",
       "      <th>deposit_type_Refundable</th>\n",
       "      <th>customer_type_Contract</th>\n",
       "      <th>customer_type_Group</th>\n",
       "      <th>customer_type_Transient</th>\n",
       "      <th>customer_type_Transient-Party</th>\n",
       "      <th>reservation_status_Canceled</th>\n",
       "      <th>reservation_status_Check-Out</th>\n",
       "      <th>reservation_status_No-Show</th>\n",
       "    </tr>\n",
       "  </thead>\n",
       "  <tbody>\n",
       "    <tr>\n",
       "      <th>0</th>\n",
       "      <td>0</td>\n",
       "      <td>342</td>\n",
       "      <td>2015</td>\n",
       "      <td>27</td>\n",
       "      <td>1</td>\n",
       "      <td>0</td>\n",
       "      <td>0</td>\n",
       "      <td>2</td>\n",
       "      <td>0</td>\n",
       "      <td>0</td>\n",
       "      <td>...</td>\n",
       "      <td>1</td>\n",
       "      <td>0</td>\n",
       "      <td>0</td>\n",
       "      <td>0</td>\n",
       "      <td>0</td>\n",
       "      <td>1</td>\n",
       "      <td>0</td>\n",
       "      <td>0</td>\n",
       "      <td>1</td>\n",
       "      <td>0</td>\n",
       "    </tr>\n",
       "    <tr>\n",
       "      <th>1</th>\n",
       "      <td>0</td>\n",
       "      <td>737</td>\n",
       "      <td>2015</td>\n",
       "      <td>27</td>\n",
       "      <td>1</td>\n",
       "      <td>0</td>\n",
       "      <td>0</td>\n",
       "      <td>2</td>\n",
       "      <td>0</td>\n",
       "      <td>0</td>\n",
       "      <td>...</td>\n",
       "      <td>1</td>\n",
       "      <td>0</td>\n",
       "      <td>0</td>\n",
       "      <td>0</td>\n",
       "      <td>0</td>\n",
       "      <td>1</td>\n",
       "      <td>0</td>\n",
       "      <td>0</td>\n",
       "      <td>1</td>\n",
       "      <td>0</td>\n",
       "    </tr>\n",
       "    <tr>\n",
       "      <th>2</th>\n",
       "      <td>0</td>\n",
       "      <td>7</td>\n",
       "      <td>2015</td>\n",
       "      <td>27</td>\n",
       "      <td>1</td>\n",
       "      <td>0</td>\n",
       "      <td>1</td>\n",
       "      <td>1</td>\n",
       "      <td>0</td>\n",
       "      <td>0</td>\n",
       "      <td>...</td>\n",
       "      <td>1</td>\n",
       "      <td>0</td>\n",
       "      <td>0</td>\n",
       "      <td>0</td>\n",
       "      <td>0</td>\n",
       "      <td>1</td>\n",
       "      <td>0</td>\n",
       "      <td>0</td>\n",
       "      <td>1</td>\n",
       "      <td>0</td>\n",
       "    </tr>\n",
       "    <tr>\n",
       "      <th>3</th>\n",
       "      <td>0</td>\n",
       "      <td>13</td>\n",
       "      <td>2015</td>\n",
       "      <td>27</td>\n",
       "      <td>1</td>\n",
       "      <td>0</td>\n",
       "      <td>1</td>\n",
       "      <td>1</td>\n",
       "      <td>0</td>\n",
       "      <td>0</td>\n",
       "      <td>...</td>\n",
       "      <td>1</td>\n",
       "      <td>0</td>\n",
       "      <td>0</td>\n",
       "      <td>0</td>\n",
       "      <td>0</td>\n",
       "      <td>1</td>\n",
       "      <td>0</td>\n",
       "      <td>0</td>\n",
       "      <td>1</td>\n",
       "      <td>0</td>\n",
       "    </tr>\n",
       "    <tr>\n",
       "      <th>4</th>\n",
       "      <td>0</td>\n",
       "      <td>14</td>\n",
       "      <td>2015</td>\n",
       "      <td>27</td>\n",
       "      <td>1</td>\n",
       "      <td>0</td>\n",
       "      <td>2</td>\n",
       "      <td>2</td>\n",
       "      <td>0</td>\n",
       "      <td>0</td>\n",
       "      <td>...</td>\n",
       "      <td>1</td>\n",
       "      <td>0</td>\n",
       "      <td>0</td>\n",
       "      <td>0</td>\n",
       "      <td>0</td>\n",
       "      <td>1</td>\n",
       "      <td>0</td>\n",
       "      <td>0</td>\n",
       "      <td>1</td>\n",
       "      <td>0</td>\n",
       "    </tr>\n",
       "  </tbody>\n",
       "</table>\n",
       "<p>5 rows × 260 columns</p>\n",
       "</div>"
      ],
      "text/plain": [
       "   is_canceled  lead_time  arrival_date_year  arrival_date_week_number  \\\n",
       "0            0        342               2015                        27   \n",
       "1            0        737               2015                        27   \n",
       "2            0          7               2015                        27   \n",
       "3            0         13               2015                        27   \n",
       "4            0         14               2015                        27   \n",
       "\n",
       "   arrival_date_day_of_month  stays_in_weekend_nights  stays_in_week_nights  \\\n",
       "0                          1                        0                     0   \n",
       "1                          1                        0                     0   \n",
       "2                          1                        0                     1   \n",
       "3                          1                        0                     1   \n",
       "4                          1                        0                     2   \n",
       "\n",
       "   adults  is_repeated_guest  previous_cancellations  ...  \\\n",
       "0       2                  0                       0  ...   \n",
       "1       2                  0                       0  ...   \n",
       "2       1                  0                       0  ...   \n",
       "3       1                  0                       0  ...   \n",
       "4       2                  0                       0  ...   \n",
       "\n",
       "   deposit_type_No Deposit  deposit_type_Non Refund  deposit_type_Refundable  \\\n",
       "0                        1                        0                        0   \n",
       "1                        1                        0                        0   \n",
       "2                        1                        0                        0   \n",
       "3                        1                        0                        0   \n",
       "4                        1                        0                        0   \n",
       "\n",
       "   customer_type_Contract  customer_type_Group  customer_type_Transient  \\\n",
       "0                       0                    0                        1   \n",
       "1                       0                    0                        1   \n",
       "2                       0                    0                        1   \n",
       "3                       0                    0                        1   \n",
       "4                       0                    0                        1   \n",
       "\n",
       "   customer_type_Transient-Party  reservation_status_Canceled  \\\n",
       "0                              0                            0   \n",
       "1                              0                            0   \n",
       "2                              0                            0   \n",
       "3                              0                            0   \n",
       "4                              0                            0   \n",
       "\n",
       "   reservation_status_Check-Out  reservation_status_No-Show  \n",
       "0                             1                           0  \n",
       "1                             1                           0  \n",
       "2                             1                           0  \n",
       "3                             1                           0  \n",
       "4                             1                           0  \n",
       "\n",
       "[5 rows x 260 columns]"
      ]
     },
     "execution_count": 11,
     "metadata": {},
     "output_type": "execute_result"
    }
   ],
   "source": [
    "data_raw['reservation_status_date'] = data_raw['reservation_status_date'].transform(lambda s: int(s.replace('-', '').strip()))\n",
    "data_raw = pd.get_dummies(data_raw)\n",
    "print(data_raw.shape)\n",
    "data_raw.head()"
   ]
  },
  {
   "cell_type": "markdown",
   "id": "af4bf70e-a82d-4bd5-a279-8d775b86cd52",
   "metadata": {},
   "source": [
    "Нормализируем количественные признаки:"
   ]
  },
  {
   "cell_type": "code",
   "execution_count": 12,
   "id": "b9bd9d86-2c94-4ed1-8637-d4e6e701294f",
   "metadata": {},
   "outputs": [
    {
     "data": {
      "text/html": [
       "<div>\n",
       "<style scoped>\n",
       "    .dataframe tbody tr th:only-of-type {\n",
       "        vertical-align: middle;\n",
       "    }\n",
       "\n",
       "    .dataframe tbody tr th {\n",
       "        vertical-align: top;\n",
       "    }\n",
       "\n",
       "    .dataframe thead th {\n",
       "        text-align: right;\n",
       "    }\n",
       "</style>\n",
       "<table border=\"1\" class=\"dataframe\">\n",
       "  <thead>\n",
       "    <tr style=\"text-align: right;\">\n",
       "      <th></th>\n",
       "      <th>is_canceled</th>\n",
       "      <th>lead_time</th>\n",
       "      <th>arrival_date_year</th>\n",
       "      <th>arrival_date_week_number</th>\n",
       "      <th>arrival_date_day_of_month</th>\n",
       "      <th>stays_in_weekend_nights</th>\n",
       "      <th>stays_in_week_nights</th>\n",
       "      <th>adults</th>\n",
       "      <th>is_repeated_guest</th>\n",
       "      <th>previous_cancellations</th>\n",
       "      <th>...</th>\n",
       "      <th>deposit_type_No Deposit</th>\n",
       "      <th>deposit_type_Non Refund</th>\n",
       "      <th>deposit_type_Refundable</th>\n",
       "      <th>customer_type_Contract</th>\n",
       "      <th>customer_type_Group</th>\n",
       "      <th>customer_type_Transient</th>\n",
       "      <th>customer_type_Transient-Party</th>\n",
       "      <th>reservation_status_Canceled</th>\n",
       "      <th>reservation_status_Check-Out</th>\n",
       "      <th>reservation_status_No-Show</th>\n",
       "    </tr>\n",
       "  </thead>\n",
       "  <tbody>\n",
       "    <tr>\n",
       "      <th>count</th>\n",
       "      <td>118898.000000</td>\n",
       "      <td>118898.000000</td>\n",
       "      <td>118898.000000</td>\n",
       "      <td>118898.000000</td>\n",
       "      <td>118898.000000</td>\n",
       "      <td>118898.000000</td>\n",
       "      <td>118898.000000</td>\n",
       "      <td>118898.000000</td>\n",
       "      <td>118898.000000</td>\n",
       "      <td>118898.000000</td>\n",
       "      <td>...</td>\n",
       "      <td>118898.000000</td>\n",
       "      <td>118898.000000</td>\n",
       "      <td>118898.000000</td>\n",
       "      <td>118898.000000</td>\n",
       "      <td>118898.000000</td>\n",
       "      <td>118898.000000</td>\n",
       "      <td>118898.000000</td>\n",
       "      <td>118898.000000</td>\n",
       "      <td>118898.000000</td>\n",
       "      <td>118898.000000</td>\n",
       "    </tr>\n",
       "    <tr>\n",
       "      <th>mean</th>\n",
       "      <td>0.371352</td>\n",
       "      <td>0.141535</td>\n",
       "      <td>0.578828</td>\n",
       "      <td>0.503203</td>\n",
       "      <td>0.493363</td>\n",
       "      <td>0.058056</td>\n",
       "      <td>0.061028</td>\n",
       "      <td>0.033789</td>\n",
       "      <td>0.032011</td>\n",
       "      <td>0.003352</td>\n",
       "      <td>...</td>\n",
       "      <td>0.876070</td>\n",
       "      <td>0.122567</td>\n",
       "      <td>0.001363</td>\n",
       "      <td>0.034281</td>\n",
       "      <td>0.004794</td>\n",
       "      <td>0.750004</td>\n",
       "      <td>0.210920</td>\n",
       "      <td>0.361234</td>\n",
       "      <td>0.628648</td>\n",
       "      <td>0.010118</td>\n",
       "    </tr>\n",
       "    <tr>\n",
       "      <th>std</th>\n",
       "      <td>0.483168</td>\n",
       "      <td>0.145052</td>\n",
       "      <td>0.353729</td>\n",
       "      <td>0.261346</td>\n",
       "      <td>0.292677</td>\n",
       "      <td>0.062264</td>\n",
       "      <td>0.046346</td>\n",
       "      <td>0.010520</td>\n",
       "      <td>0.176029</td>\n",
       "      <td>0.032533</td>\n",
       "      <td>...</td>\n",
       "      <td>0.329503</td>\n",
       "      <td>0.327941</td>\n",
       "      <td>0.036887</td>\n",
       "      <td>0.181952</td>\n",
       "      <td>0.069073</td>\n",
       "      <td>0.433012</td>\n",
       "      <td>0.407964</td>\n",
       "      <td>0.480360</td>\n",
       "      <td>0.483168</td>\n",
       "      <td>0.100078</td>\n",
       "    </tr>\n",
       "    <tr>\n",
       "      <th>min</th>\n",
       "      <td>0.000000</td>\n",
       "      <td>0.000000</td>\n",
       "      <td>0.000000</td>\n",
       "      <td>0.000000</td>\n",
       "      <td>0.000000</td>\n",
       "      <td>0.000000</td>\n",
       "      <td>0.000000</td>\n",
       "      <td>0.000000</td>\n",
       "      <td>0.000000</td>\n",
       "      <td>0.000000</td>\n",
       "      <td>...</td>\n",
       "      <td>0.000000</td>\n",
       "      <td>0.000000</td>\n",
       "      <td>0.000000</td>\n",
       "      <td>0.000000</td>\n",
       "      <td>0.000000</td>\n",
       "      <td>0.000000</td>\n",
       "      <td>0.000000</td>\n",
       "      <td>0.000000</td>\n",
       "      <td>0.000000</td>\n",
       "      <td>0.000000</td>\n",
       "    </tr>\n",
       "    <tr>\n",
       "      <th>25%</th>\n",
       "      <td>0.000000</td>\n",
       "      <td>0.024423</td>\n",
       "      <td>0.500000</td>\n",
       "      <td>0.288462</td>\n",
       "      <td>0.233333</td>\n",
       "      <td>0.000000</td>\n",
       "      <td>0.024390</td>\n",
       "      <td>0.036364</td>\n",
       "      <td>0.000000</td>\n",
       "      <td>0.000000</td>\n",
       "      <td>...</td>\n",
       "      <td>1.000000</td>\n",
       "      <td>0.000000</td>\n",
       "      <td>0.000000</td>\n",
       "      <td>0.000000</td>\n",
       "      <td>0.000000</td>\n",
       "      <td>1.000000</td>\n",
       "      <td>0.000000</td>\n",
       "      <td>0.000000</td>\n",
       "      <td>0.000000</td>\n",
       "      <td>0.000000</td>\n",
       "    </tr>\n",
       "    <tr>\n",
       "      <th>50%</th>\n",
       "      <td>0.000000</td>\n",
       "      <td>0.093623</td>\n",
       "      <td>0.500000</td>\n",
       "      <td>0.519231</td>\n",
       "      <td>0.500000</td>\n",
       "      <td>0.062500</td>\n",
       "      <td>0.048780</td>\n",
       "      <td>0.036364</td>\n",
       "      <td>0.000000</td>\n",
       "      <td>0.000000</td>\n",
       "      <td>...</td>\n",
       "      <td>1.000000</td>\n",
       "      <td>0.000000</td>\n",
       "      <td>0.000000</td>\n",
       "      <td>0.000000</td>\n",
       "      <td>0.000000</td>\n",
       "      <td>1.000000</td>\n",
       "      <td>0.000000</td>\n",
       "      <td>0.000000</td>\n",
       "      <td>1.000000</td>\n",
       "      <td>0.000000</td>\n",
       "    </tr>\n",
       "    <tr>\n",
       "      <th>75%</th>\n",
       "      <td>1.000000</td>\n",
       "      <td>0.218453</td>\n",
       "      <td>1.000000</td>\n",
       "      <td>0.711538</td>\n",
       "      <td>0.733333</td>\n",
       "      <td>0.125000</td>\n",
       "      <td>0.073171</td>\n",
       "      <td>0.036364</td>\n",
       "      <td>0.000000</td>\n",
       "      <td>0.000000</td>\n",
       "      <td>...</td>\n",
       "      <td>1.000000</td>\n",
       "      <td>0.000000</td>\n",
       "      <td>0.000000</td>\n",
       "      <td>0.000000</td>\n",
       "      <td>0.000000</td>\n",
       "      <td>1.000000</td>\n",
       "      <td>0.000000</td>\n",
       "      <td>1.000000</td>\n",
       "      <td>1.000000</td>\n",
       "      <td>0.000000</td>\n",
       "    </tr>\n",
       "    <tr>\n",
       "      <th>max</th>\n",
       "      <td>1.000000</td>\n",
       "      <td>1.000000</td>\n",
       "      <td>1.000000</td>\n",
       "      <td>1.000000</td>\n",
       "      <td>1.000000</td>\n",
       "      <td>1.000000</td>\n",
       "      <td>1.000000</td>\n",
       "      <td>1.000000</td>\n",
       "      <td>1.000000</td>\n",
       "      <td>1.000000</td>\n",
       "      <td>...</td>\n",
       "      <td>1.000000</td>\n",
       "      <td>1.000000</td>\n",
       "      <td>1.000000</td>\n",
       "      <td>1.000000</td>\n",
       "      <td>1.000000</td>\n",
       "      <td>1.000000</td>\n",
       "      <td>1.000000</td>\n",
       "      <td>1.000000</td>\n",
       "      <td>1.000000</td>\n",
       "      <td>1.000000</td>\n",
       "    </tr>\n",
       "  </tbody>\n",
       "</table>\n",
       "<p>8 rows × 260 columns</p>\n",
       "</div>"
      ],
      "text/plain": [
       "         is_canceled      lead_time  arrival_date_year  \\\n",
       "count  118898.000000  118898.000000      118898.000000   \n",
       "mean        0.371352       0.141535           0.578828   \n",
       "std         0.483168       0.145052           0.353729   \n",
       "min         0.000000       0.000000           0.000000   \n",
       "25%         0.000000       0.024423           0.500000   \n",
       "50%         0.000000       0.093623           0.500000   \n",
       "75%         1.000000       0.218453           1.000000   \n",
       "max         1.000000       1.000000           1.000000   \n",
       "\n",
       "       arrival_date_week_number  arrival_date_day_of_month  \\\n",
       "count             118898.000000              118898.000000   \n",
       "mean                   0.503203                   0.493363   \n",
       "std                    0.261346                   0.292677   \n",
       "min                    0.000000                   0.000000   \n",
       "25%                    0.288462                   0.233333   \n",
       "50%                    0.519231                   0.500000   \n",
       "75%                    0.711538                   0.733333   \n",
       "max                    1.000000                   1.000000   \n",
       "\n",
       "       stays_in_weekend_nights  stays_in_week_nights         adults  \\\n",
       "count            118898.000000         118898.000000  118898.000000   \n",
       "mean                  0.058056              0.061028       0.033789   \n",
       "std                   0.062264              0.046346       0.010520   \n",
       "min                   0.000000              0.000000       0.000000   \n",
       "25%                   0.000000              0.024390       0.036364   \n",
       "50%                   0.062500              0.048780       0.036364   \n",
       "75%                   0.125000              0.073171       0.036364   \n",
       "max                   1.000000              1.000000       1.000000   \n",
       "\n",
       "       is_repeated_guest  previous_cancellations  ...  \\\n",
       "count      118898.000000           118898.000000  ...   \n",
       "mean            0.032011                0.003352  ...   \n",
       "std             0.176029                0.032533  ...   \n",
       "min             0.000000                0.000000  ...   \n",
       "25%             0.000000                0.000000  ...   \n",
       "50%             0.000000                0.000000  ...   \n",
       "75%             0.000000                0.000000  ...   \n",
       "max             1.000000                1.000000  ...   \n",
       "\n",
       "       deposit_type_No Deposit  deposit_type_Non Refund  \\\n",
       "count            118898.000000            118898.000000   \n",
       "mean                  0.876070                 0.122567   \n",
       "std                   0.329503                 0.327941   \n",
       "min                   0.000000                 0.000000   \n",
       "25%                   1.000000                 0.000000   \n",
       "50%                   1.000000                 0.000000   \n",
       "75%                   1.000000                 0.000000   \n",
       "max                   1.000000                 1.000000   \n",
       "\n",
       "       deposit_type_Refundable  customer_type_Contract  customer_type_Group  \\\n",
       "count            118898.000000           118898.000000        118898.000000   \n",
       "mean                  0.001363                0.034281             0.004794   \n",
       "std                   0.036887                0.181952             0.069073   \n",
       "min                   0.000000                0.000000             0.000000   \n",
       "25%                   0.000000                0.000000             0.000000   \n",
       "50%                   0.000000                0.000000             0.000000   \n",
       "75%                   0.000000                0.000000             0.000000   \n",
       "max                   1.000000                1.000000             1.000000   \n",
       "\n",
       "       customer_type_Transient  customer_type_Transient-Party  \\\n",
       "count            118898.000000                  118898.000000   \n",
       "mean                  0.750004                       0.210920   \n",
       "std                   0.433012                       0.407964   \n",
       "min                   0.000000                       0.000000   \n",
       "25%                   1.000000                       0.000000   \n",
       "50%                   1.000000                       0.000000   \n",
       "75%                   1.000000                       0.000000   \n",
       "max                   1.000000                       1.000000   \n",
       "\n",
       "       reservation_status_Canceled  reservation_status_Check-Out  \\\n",
       "count                118898.000000                 118898.000000   \n",
       "mean                      0.361234                      0.628648   \n",
       "std                       0.480360                      0.483168   \n",
       "min                       0.000000                      0.000000   \n",
       "25%                       0.000000                      0.000000   \n",
       "50%                       0.000000                      1.000000   \n",
       "75%                       1.000000                      1.000000   \n",
       "max                       1.000000                      1.000000   \n",
       "\n",
       "       reservation_status_No-Show  \n",
       "count               118898.000000  \n",
       "mean                     0.010118  \n",
       "std                      0.100078  \n",
       "min                      0.000000  \n",
       "25%                      0.000000  \n",
       "50%                      0.000000  \n",
       "75%                      0.000000  \n",
       "max                      1.000000  \n",
       "\n",
       "[8 rows x 260 columns]"
      ]
     },
     "execution_count": 12,
     "metadata": {},
     "output_type": "execute_result"
    }
   ],
   "source": [
    "data_normal = (data_raw - data_raw.min(axis=0)) / (data_raw.max(axis=0) - data_raw.min(axis=0))\n",
    "data_normal.describe()"
   ]
  },
  {
   "cell_type": "markdown",
   "id": "977e8093-f853-49d1-9ab8-e66650199008",
   "metadata": {},
   "source": [
    "## 2. Разбиение данных на обучающую и тестовую выборки"
   ]
  },
  {
   "cell_type": "code",
   "execution_count": 16,
   "id": "6a0423b0-2ddc-4d0b-84e1-d29a778b2ea3",
   "metadata": {},
   "outputs": [],
   "source": [
    "X = data_normal.drop(['is_canceled'], axis=1)\n",
    "y = data_raw['is_canceled'].astype(np.float32)"
   ]
  },
  {
   "cell_type": "markdown",
   "id": "44eaa344-d975-49e8-8457-c4f8109fe340",
   "metadata": {},
   "source": [
    "Разобъем данные на обучающую (66%) и тестовую (33%) выборки"
   ]
  },
  {
   "cell_type": "code",
   "execution_count": 17,
   "id": "e8e58207-ed6f-4953-84ca-00171845d521",
   "metadata": {},
   "outputs": [
    {
     "data": {
      "text/plain": [
       "(79661, 39237)"
      ]
     },
     "execution_count": 17,
     "metadata": {},
     "output_type": "execute_result"
    }
   ],
   "source": [
    "from sklearn.model_selection import train_test_split\n",
    "X_train, X_test, y_train, y_test = train_test_split(X, y, test_size = 0.33, random_state = 42)\n",
    "\n",
    "N_train, _ = X_train.shape \n",
    "N_test,  _ = X_test.shape \n",
    "\n",
    "N_train, N_test"
   ]
  },
  {
   "cell_type": "markdown",
   "id": "48c5ca37-120f-44ab-abc6-79fb2c4be82a",
   "metadata": {},
   "source": [
    "## 3. Подбор гиперпараметров"
   ]
  },
  {
   "cell_type": "markdown",
   "id": "525fa493-9ee1-4b14-af02-c584edd91c0c",
   "metadata": {},
   "source": [
    "В качестве алгоритма оптимизации выберем алгоритм Adam, в качестве функции активации выберем Relu, в качетве метрики оценки классификатора возьмем accuracy_score."
   ]
  },
  {
   "cell_type": "code",
   "execution_count": 18,
   "id": "06b5306c-e916-4986-acce-f350ee387fa1",
   "metadata": {},
   "outputs": [],
   "source": [
    "from sklearn.neural_network import MLPClassifier\n",
    "from sklearn.metrics import accuracy_score\n",
    "from tqdm import tqdm"
   ]
  },
  {
   "cell_type": "markdown",
   "id": "1de80b24-99b0-4cf7-aaab-a6f2ad393a34",
   "metadata": {},
   "source": [
    "## Подбор количества нейронов для однослойной сети"
   ]
  },
  {
   "cell_type": "code",
   "execution_count": 19,
   "id": "3e6c5b96-7b36-4ad9-80f7-8a5ca97eb793",
   "metadata": {},
   "outputs": [
    {
     "name": "stderr",
     "output_type": "stream",
     "text": [
      "100%|██████████████████████████████████████████████████████████████████████████████████| 50/50 [15:24<00:00, 18.50s/it]\n"
     ]
    }
   ],
   "source": [
    "hidden_layer_size = np.linspace(1, 50, 50)\n",
    "hidden_layer_size = hidden_layer_size.astype(int)\n",
    "test_err, train_err = [], []\n",
    "train_acc, test_acc = [], []\n",
    "\n",
    "for size in tqdm(hidden_layer_size):\n",
    "    model = MLPClassifier(hidden_layer_sizes=(size,), \n",
    "                          solver='adam', activation='relu', max_iter=1000, random_state=13)\n",
    "    model.fit(X_train, y_train)\n",
    "\n",
    "    y_train_pred = model.predict(X_train)\n",
    "    y_test_pred = model.predict(X_test)\n",
    "    \n",
    "    train_err.append(np.mean(y_train != y_train_pred))\n",
    "    test_err.append(np.mean(y_test != y_test_pred))\n",
    "    \n",
    "    train_acc.append(accuracy_score(y_train.astype('int64'), y_train_pred))\n",
    "    test_acc.append(accuracy_score(y_test, y_test_pred))"
   ]
  },
  {
   "cell_type": "code",
   "execution_count": 20,
   "id": "ed65e37a-42da-4763-845b-3685665af9dd",
   "metadata": {},
   "outputs": [
    {
     "name": "stdout",
     "output_type": "stream",
     "text": [
      "Train: Min error=0.0, number of neurons=1\n",
      "Test: Min error=0.0, number of neurons=1\n"
     ]
    },
    {
     "data": {
      "image/png": "[encoded data removed]",
      "text/plain": [
       "<Figure size 432x288 with 1 Axes>"
      ]
     },
     "metadata": {
      "needs_background": "light"
     },
     "output_type": "display_data"
    }
   ],
   "source": [
    "plt.plot(hidden_layer_size, train_err, 'b-o', label = 'train')\n",
    "plt.plot(hidden_layer_size, test_err, 'r-o', label = 'test')\n",
    "plt.xlim([np.min(hidden_layer_size), np.max(hidden_layer_size)])\n",
    "plt.title('Error is as a function of hidden_layer_size')\n",
    "plt.xlabel('hidden_layer_size')\n",
    "plt.ylabel('error')\n",
    "plt.legend()\n",
    "\n",
    "print(\"Train: Min error={0}, number of neurons={1}\".format(np.min(train_err), hidden_layer_size[np.argmin(train_err)]))\n",
    "print(\"Test: Min error={0}, number of neurons={1}\".format(np.min(test_err), hidden_layer_size[np.argmin(test_err)]))"
   ]
  },
  {
   "cell_type": "code",
   "execution_count": 21,
   "id": "e2983f06-5a79-4084-a97c-b1e13a3fad9f",
   "metadata": {},
   "outputs": [
    {
     "name": "stdout",
     "output_type": "stream",
     "text": [
      "Train: max accuracy=1.0, number of neurons=1\n",
      "Test: max accuracy=1.0, number of neurons=1\n"
     ]
    },
    {
     "data": {
      "image/png": "[encoded data removed]",
      "text/plain": [
       "<Figure size 432x288 with 1 Axes>"
      ]
     },
     "metadata": {
      "needs_background": "light"
     },
     "output_type": "display_data"
    }
   ],
   "source": [
    "plt.plot(hidden_layer_size, train_acc, 'r-o', label = 'train')\n",
    "plt.plot(hidden_layer_size, test_acc, 'b-o', label = 'test')\n",
    "plt.xlim([np.min(hidden_layer_size), np.max(hidden_layer_size)])\n",
    "plt.title('Accuracy is a function of hidden_layer_size')\n",
    "plt.xlabel('hidden_layer_size')\n",
    "plt.ylabel('Accuracy')\n",
    "plt.legend()\n",
    "\n",
    "print(\"Train: max accuracy={0}, number of neurons={1}\".format(np.max(train_acc), hidden_layer_size[np.argmax(train_acc)]))\n",
    "print(\"Test: max accuracy={0}, number of neurons={1}\".format(np.max(test_acc), hidden_layer_size[np.argmax(test_acc)]))"
   ]
  },
  {
   "cell_type": "markdown",
   "id": "5f67ff2b-d330-4af1-b519-8f4b486cc213",
   "metadata": {},
   "source": [
    "## Подбор количества нейронов в двуслойной сети:"
   ]
  },
  {
   "cell_type": "code",
   "execution_count": 22,
   "id": "f2c66a85-11f6-4150-9445-13bf712e4b3b",
   "metadata": {},
   "outputs": [
    {
     "name": "stderr",
     "output_type": "stream",
     "text": [
      "10it [32:23, 194.34s/it]\n"
     ]
    }
   ],
   "source": [
    "n = 10\n",
    "sizes = np.linspace(1, 50, n).astype(int)\n",
    "test_err = np.zeros((n, n))\n",
    "train_err = np.zeros((n, n))\n",
    "train_acc = np.zeros((n, n))\n",
    "test_acc = np.zeros((n, n))\n",
    "\n",
    "for i, size_1 in tqdm(enumerate(sizes)):\n",
    "    for j, size_2 in enumerate(sizes):\n",
    "        model = MLPClassifier(hidden_layer_sizes=(size_1, size_2, ), \n",
    "                              solver='adam', activation='relu', max_iter=1000, random_state=13)\n",
    "        model.fit(X_train, y_train)\n",
    "\n",
    "        y_train_pred = model.predict(X_train)\n",
    "        y_test_pred = model.predict(X_test)\n",
    "\n",
    "        train_err[i][j] = np.mean(y_train != y_train_pred)\n",
    "        test_err[i][j] = np.mean(y_test != y_test_pred)\n",
    "\n",
    "        train_acc[i][j] = accuracy_score(y_train, y_train_pred)\n",
    "        test_acc[i][j] = accuracy_score(y_test, y_test_pred)"
   ]
  },
  {
   "cell_type": "code",
   "execution_count": 23,
   "id": "25957815-5c5a-4c65-b23b-be70b88b107e",
   "metadata": {},
   "outputs": [
    {
     "name": "stdout",
     "output_type": "stream",
     "text": [
      "Train: Min error=0.0, number of neurons=0,15\n",
      "Test: error=0.0, number of neurons=0,15\n",
      "\n",
      "Test: Min error=0.0, number of neurons=0,15\n",
      "Train: error=0.0, number of neurons=0,15\n",
      "\n"
     ]
    },
    {
     "data": {
      "image/png": "[encoded data removed]",
      "text/plain": [
       "<Figure size 432x288 with 3 Axes>"
      ]
     },
     "metadata": {
      "needs_background": "light"
     },
     "output_type": "display_data"
    }
   ],
   "source": [
    "plt.subplot(121)\n",
    "plt.title(\"Train error\")\n",
    "plt.imshow(train_err)\n",
    "plt.xticks(np.arange(n), np.arange(1, 50, 50 / n))\n",
    "plt.yticks(np.arange(n), np.arange(1, 50, 50 / n))\n",
    "\n",
    "plt.subplot(122)\n",
    "plt.title(\"Test error\")\n",
    "plt.imshow(test_err)\n",
    "plt.xticks(np.arange(n), np.arange(1, 50, 50 / n))\n",
    "plt.yticks(np.arange(n), np.arange(1, 50, 50 / n))\n",
    "\n",
    "cax = plt.axes([0.96, 0.15, 0.02, 0.7])\n",
    "plt.colorbar(cax=cax)\n",
    "\n",
    "train_min_loss = np.where(train_err == np.min(train_err))\n",
    "test_min_loss = np.where(test_err == np.min(test_err))\n",
    "\n",
    "train_min_loss_sizes = [train_min_loss[0][0] * 5, train_min_loss[1][0] * 5]\n",
    "test_min_loss_sizes = [test_min_loss[0][0] * 5, test_min_loss[1][0] * 5]\n",
    "\n",
    "print(\"Train: Min error={0}, number of neurons={1},{2}\".format(np.min(train_err), train_min_loss_sizes[0], train_min_loss_sizes[1]))\n",
    "print(\"Test: error={0}, number of neurons={1},{2}\\n\".format(test_err[train_min_loss][0], train_min_loss_sizes[0], train_min_loss_sizes[1]))\n",
    "print(\"Test: Min error={0}, number of neurons={1},{2}\".format(np.min(test_err), test_min_loss_sizes[0], test_min_loss_sizes[1]))\n",
    "print(\"Train: error={0}, number of neurons={1},{2}\\n\".format(train_err[test_min_loss][0], test_min_loss_sizes[0], test_min_loss_sizes[1]))"
   ]
  },
  {
   "cell_type": "code",
   "execution_count": 24,
   "id": "c2357335-7f02-4276-b2c1-e190b880b214",
   "metadata": {},
   "outputs": [
    {
     "name": "stdout",
     "output_type": "stream",
     "text": [
      "Train: Max accuracy=1.0, number of neurons=0,15\n",
      "Test: accuracy=1.0, number of neurons=0,15\n",
      "\n",
      "Test: Max accuracy=1.0, number of neurons=0,15\n",
      "Train: accuracy=1.0, number of neurons=0,15\n",
      "\n"
     ]
    },
    {
     "data": {
      "image/png": "[encoded data removed]",
      "text/plain": [
       "<Figure size 432x288 with 3 Axes>"
      ]
     },
     "metadata": {
      "needs_background": "light"
     },
     "output_type": "display_data"
    }
   ],
   "source": [
    "plt.subplot(121)\n",
    "plt.title(\"Train accuracy\")\n",
    "plt.imshow(train_acc)\n",
    "plt.xticks(np.arange(n), np.arange(1, 50, 50 / n))\n",
    "plt.yticks(np.arange(n), np.arange(1, 50, 50 / n))\n",
    "\n",
    "plt.subplot(122)\n",
    "plt.title(\"Test accuracy\")\n",
    "plt.imshow(test_acc)\n",
    "plt.xticks(np.arange(n), np.arange(1, 50, 50 / n))\n",
    "plt.yticks(np.arange(n), np.arange(1, 50, 50 / n))\n",
    "\n",
    "cax = plt.axes([0.95, 0.15, 0.02, 0.7])\n",
    "plt.colorbar(cax=cax)\n",
    "\n",
    "train_max_acc = np.where(train_acc == np.max(train_acc))\n",
    "test_max_acc = np.where(test_acc == np.max(test_acc))\n",
    "\n",
    "train_max_acc_sizes = [train_max_acc[0][0] * 5, train_max_acc[1][0] * 5]\n",
    "test_max_acc_sizes = [test_max_acc[0][0] * 5, test_max_acc[1][0] * 5]\n",
    "\n",
    "print(\"Train: Max accuracy={0}, number of neurons={1},{2}\".format(np.max(train_acc), train_max_acc_sizes[0], train_max_acc_sizes[1]))\n",
    "print(\"Test: accuracy={0}, number of neurons={1},{2}\\n\".format(test_acc[train_max_acc][0], train_max_acc_sizes[0], train_max_acc_sizes[1]))\n",
    "print(\"Test: Max accuracy={0}, number of neurons={1},{2}\".format(np.max(test_acc), test_max_acc_sizes[0], test_max_acc_sizes[1]))\n",
    "print(\"Train: accuracy={0}, number of neurons={1},{2}\\n\".format(train_acc[test_max_acc][0], test_max_acc_sizes[0], test_max_acc_sizes[1]))"
   ]
  },
  {
   "cell_type": "markdown",
   "id": "89907a92-dca2-49a8-8b27-957e0329a00d",
   "metadata": {},
   "source": [
    "## Подбор параметра регуляризации"
   ]
  },
  {
   "cell_type": "code",
   "execution_count": 25,
   "id": "818afeb7-5e33-4fb1-b21d-6ec5f3dc32b6",
   "metadata": {},
   "outputs": [
    {
     "name": "stderr",
     "output_type": "stream",
     "text": [
      "100%|██████████████████████████████████████████████████████████████████████████████████| 50/50 [18:05<00:00, 21.70s/it]\n"
     ]
    }
   ],
   "source": [
    "alphas = np.logspace(-5, 5, 50)\n",
    "test_err, train_err = [], []\n",
    "train_acc, test_acc = [], []\n",
    "\n",
    "\n",
    "for alpha in tqdm(alphas):\n",
    "    mlp_model = MLPClassifier(alpha = alpha, hidden_layer_sizes = (35,10,), \n",
    "                              solver='adam', activation='relu', max_iter=1000, random_state=13)\n",
    "    \n",
    "    mlp_model.fit(X_train, y_train)\n",
    "\n",
    "    y_train_pred = mlp_model.predict(X_train)\n",
    "    y_test_pred = mlp_model.predict(X_test)\n",
    "    \n",
    "    train_err.append(np.mean(y_train != y_train_pred))\n",
    "    test_err.append(np.mean(y_test != y_test_pred))\n",
    "    \n",
    "    train_acc.append(accuracy_score(y_train, y_train_pred))\n",
    "    test_acc.append(accuracy_score(y_test, y_test_pred))"
   ]
  },
  {
   "cell_type": "code",
   "execution_count": 26,
   "id": "7cd2af72-d5a1-4c14-ac28-e47578d4ca95",
   "metadata": {},
   "outputs": [
    {
     "data": {
      "text/plain": [
       "<matplotlib.legend.Legend at 0x1eb83cac4f0>"
      ]
     },
     "execution_count": 26,
     "metadata": {},
     "output_type": "execute_result"
    },
    {
     "data": {
      "image/png": "[encoded data removed]",
      "text/plain": [
       "<Figure size 432x288 with 1 Axes>"
      ]
     },
     "metadata": {
      "needs_background": "light"
     },
     "output_type": "display_data"
    }
   ],
   "source": [
    "plt.semilogx(alphas, train_err, 'b-o', label = 'train')\n",
    "plt.semilogx(alphas, test_err, 'r-o', label = 'test')\n",
    "plt.xlim([np.min(alphas), np.max(alphas)])\n",
    "plt.title('Error is as a function of alpha')\n",
    "plt.xlabel('alpha')\n",
    "plt.ylabel('error')\n",
    "plt.legend()"
   ]
  },
  {
   "cell_type": "code",
   "execution_count": 27,
   "id": "eef2c047-ac77-44c5-bd80-7528ec1b2a4e",
   "metadata": {},
   "outputs": [
    {
     "data": {
      "text/plain": [
       "<matplotlib.legend.Legend at 0x1eb83db8fd0>"
      ]
     },
     "execution_count": 27,
     "metadata": {},
     "output_type": "execute_result"
    },
    {
     "data": {
      "image/png": "[encoded data removed]",
      "text/plain": [
       "<Figure size 432x288 with 1 Axes>"
      ]
     },
     "metadata": {
      "needs_background": "light"
     },
     "output_type": "display_data"
    }
   ],
   "source": [
    "plt.semilogx(alphas, train_acc, 'b-o', label = 'train')\n",
    "plt.semilogx(alphas, test_acc, 'r-o', label = 'test')\n",
    "plt.xlim([np.min(alphas), np.max(alphas)])\n",
    "plt.title('Accuracy is as a function of alpha')\n",
    "plt.xlabel('alpha')\n",
    "plt.ylabel('error')\n",
    "plt.legend()"
   ]
  },
  {
   "cell_type": "markdown",
   "id": "f6d52b8f-654f-4b65-bcb0-f704b741547f",
   "metadata": {},
   "source": [
    "## Вывод"
   ]
  },
  {
   "cell_type": "markdown",
   "id": "c6ab3b6a-7f47-4826-813d-e33ddbc0728c",
   "metadata": {},
   "source": [
    "Ошибка \"0\" все время, значит гиперпараметры в исследуемом диапазоне (альфа и число нейронов) не влияют на точность на данном датасете.\n",
    "Так как мы не имеем 100% корреляции, то есть нет столбца по которому однозначно можем определить класс, то значит это является особенностью датасета."
   ]
  }
 ],
 "metadata": {
  "kernelspec": {
   "display_name": "Python 3",
   "language": "python",
   "name": "python3"
  },
  "language_info": {
   "codemirror_mode": {
    "name": "ipython",
    "version": 3
   },
   "file_extension": ".py",
   "mimetype": "text/x-python",
   "name": "python",
   "nbconvert_exporter": "python",
   "pygments_lexer": "ipython3",
   "version": "3.8.8"
  }
 },
 "nbformat": 4,
 "nbformat_minor": 5
}
